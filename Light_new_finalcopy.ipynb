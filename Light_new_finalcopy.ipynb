{
  "cells": [
    {
      "cell_type": "code",
      "execution_count": null,
      "metadata": {
        "id": "czMaxmgX-9zF"
      },
      "outputs": [],
      "source": [
        "from collections import Counter\n",
        "import pandas as pd\n",
        "import numpy as np\n",
        "import seaborn as sns\n",
        "import matplotlib.pyplot as plt\n",
        "\n",
        "from sklearn.model_selection import train_test_split, GridSearchCV\n",
        "from sklearn.preprocessing import StandardScaler\n",
        "from sklearn.metrics import accuracy_score, classification_report, confusion_matrix, roc_auc_score, ConfusionMatrixDisplay\n",
        "from sklearn.inspection import permutation_importance\n",
        "\n",
        "\n",
        "from imblearn.over_sampling import SMOTE, ADASYN\n",
        "from imblearn.under_sampling import RandomUnderSampler\n",
        "\n",
        "from lightgbm import LGBMClassifier\n",
        "\n",
        "import time\n"
      ]
    },
    {
      "cell_type": "markdown",
      "metadata": {
        "id": "r9OMe5bT-9zG"
      },
      "source": [
        "## Data Preprocessing"
      ]
    },
    {
      "cell_type": "code",
      "execution_count": null,
      "metadata": {
        "colab": {
          "base_uri": "https://localhost:8080/",
          "height": 548
        },
        "id": "voTVbPSj-9zH",
        "outputId": "51beb528-2e93-498c-ae0b-9c6d9d910030"
      },
      "outputs": [],
      "source": [
        "df = pd.read_csv(\"transaction_dataset.csv\").drop(columns=['Unnamed: 0'])\n",
        "df.head(100)"
      ]
    },
    {
      "cell_type": "code",
      "execution_count": null,
      "metadata": {
        "id": "3ilNopGP12ZW",
        "outputId": "67acde61-ef50-43a8-ceff-27df491bafb4"
      },
      "outputs": [],
      "source": [
        "list(df.columns)"
      ]
    },
    {
      "cell_type": "code",
      "execution_count": null,
      "metadata": {
        "id": "9BdnllgD12ZW",
        "outputId": "27248b05-ba1d-41bd-e4f8-ef311d0f1f0a"
      },
      "outputs": [],
      "source": [
        "print(len(df.columns))"
      ]
    },
    {
      "cell_type": "code",
      "execution_count": null,
      "metadata": {
        "colab": {
          "base_uri": "https://localhost:8080/"
        },
        "id": "fRLuMikO-9zI",
        "outputId": "04a4444d-bb2f-49e0-e803-a58f92b7837c"
      },
      "outputs": [],
      "source": [
        "df.info()"
      ]
    },
    {
      "cell_type": "code",
      "execution_count": null,
      "metadata": {
        "id": "wzxbfvE912ZX",
        "outputId": "994dc681-8d4b-4f48-e295-7bbd63e442e2"
      },
      "outputs": [],
      "source": [
        "(df.isnull().sum()/df.shape[0]*100).sort_values(ascending=False)"
      ]
    },
    {
      "cell_type": "code",
      "execution_count": null,
      "metadata": {
        "id": "EbRaCuqC-9zI"
      },
      "outputs": [],
      "source": [
        "# index check\n",
        "sns.displot(df['Index'].value_counts())\n",
        "plt.show()"
      ]
    },
    {
      "cell_type": "markdown",
      "metadata": {
        "id": "vHrZ1dq0-9zI"
      },
      "source": [
        "We see that the index from the data is not unique, so it cannot be used as an index. In addition, it is worth checking objects with duplicate indexes - perhaps these objects are complete duplicates. Let's look at them:"
      ]
    },
    {
      "cell_type": "code",
      "execution_count": null,
      "metadata": {
        "colab": {
          "base_uri": "https://localhost:8080/",
          "height": 516
        },
        "id": "oMGU3uAA-9zJ",
        "outputId": "14822dc7-05c7-4fb0-e2e5-f83df2aae00d"
      },
      "outputs": [],
      "source": [
        "df_index_check = df.merge(\n",
        "    df[['Index', 'Address']].groupby('Index').count().rename(columns={'Address': 'Index_count'}).reset_index(),\n",
        "    on='Index')\n",
        "df_index_check[df_index_check['Index_count'] > 1].head(10)"
      ]
    },
    {
      "cell_type": "code",
      "execution_count": null,
      "metadata": {
        "colab": {
          "base_uri": "https://localhost:8080/",
          "height": 565
        },
        "id": "ibC4rkCx-9zJ",
        "outputId": "8512ea46-0dec-4dd0-d696-45dcf0d8b76a"
      },
      "outputs": [],
      "source": [
        "df.drop(columns=['Index']).drop_duplicates()"
      ]
    },
    {
      "cell_type": "code",
      "execution_count": null,
      "metadata": {
        "colab": {
          "base_uri": "https://localhost:8080/"
        },
        "id": "jpydKvwV-9zJ",
        "outputId": "0f962322-1124-4019-e46c-7b6c374d5157"
      },
      "outputs": [],
      "source": [
        "df.drop(columns=['Index']).drop_duplicates().shape[0]"
      ]
    },
    {
      "cell_type": "code",
      "execution_count": null,
      "metadata": {
        "colab": {
          "base_uri": "https://localhost:8080/"
        },
        "id": "e7ffGHHR-9zJ",
        "outputId": "5751d317-dfa2-4a1b-e18f-f5f4d0b1325d"
      },
      "outputs": [],
      "source": [
        "df.shape[0]"
      ]
    },
    {
      "cell_type": "code",
      "execution_count": null,
      "metadata": {
        "id": "l6USsGMj-9zK"
      },
      "outputs": [],
      "source": [
        "# remove index\n",
        "\n",
        "assert df.shape[0] == df.drop_duplicates().shape[0]\n",
        "df = df.drop(columns='Index').drop_duplicates()"
      ]
    },
    {
      "cell_type": "code",
      "execution_count": null,
      "metadata": {
        "colab": {
          "base_uri": "https://localhost:8080/",
          "height": 565
        },
        "id": "ArUzMCvM-9zK",
        "outputId": "cea9a9bd-483f-4cd2-ee00-48abcebc8a74"
      },
      "outputs": [],
      "source": [
        "df"
      ]
    },
    {
      "cell_type": "code",
      "execution_count": null,
      "metadata": {
        "colab": {
          "base_uri": "https://localhost:8080/"
        },
        "id": "51CeHN6o-9zK",
        "outputId": "9389451d-730d-433b-a970-8be9f5e2bb9b"
      },
      "outputs": [],
      "source": [
        "df[df['FLAG'] == 1].isnull().sum()"
      ]
    },
    {
      "cell_type": "code",
      "execution_count": null,
      "metadata": {
        "colab": {
          "base_uri": "https://localhost:8080/"
        },
        "id": "0wSqA1_D-9zK",
        "outputId": "7ae17395-ff17-411d-a326-5352b9ca4e82"
      },
      "outputs": [],
      "source": [
        "(df.isnull().sum()!=0).sum()"
      ]
    },
    {
      "cell_type": "code",
      "execution_count": null,
      "metadata": {
        "colab": {
          "base_uri": "https://localhost:8080/"
        },
        "id": "bQPtFwUM-9zL",
        "outputId": "fe4d9d45-5936-470d-ebb9-b2951d884e30"
      },
      "outputs": [],
      "source": [
        "df.isnull().sum(axis=1).value_counts()"
      ]
    },
    {
      "cell_type": "code",
      "execution_count": null,
      "metadata": {
        "colab": {
          "base_uri": "https://localhost:8080/",
          "height": 424
        },
        "id": "FGWR46U8-9zL",
        "outputId": "8db254cd-8a1a-4e17-a5a1-4cdf2ea6b7a9"
      },
      "outputs": [],
      "source": [
        "# Turn the object variable into category dtype for easy computation\n",
        "non_num = df.select_dtypes('O').columns.astype('category')\n",
        "df[non_num]"
      ]
    },
    {
      "cell_type": "code",
      "execution_count": null,
      "metadata": {
        "colab": {
          "base_uri": "https://localhost:8080/"
        },
        "id": "kKBO8FWd-9zL",
        "outputId": "2f852fe5-1b2e-4301-8f05-a1d748689907"
      },
      "outputs": [],
      "source": [
        "# Check categoricals\n",
        "for colu in df[non_num].columns:\n",
        "    print(f'The column -- {colu} -- has -- {df[colu].nunique()} -- unique values')"
      ]
    },
    {
      "cell_type": "code",
      "execution_count": null,
      "metadata": {
        "colab": {
          "base_uri": "https://localhost:8080/",
          "height": 867
        },
        "id": "laI8i1YL-9zL",
        "outputId": "e3f74133-9d57-46bd-890b-3cb173223db7"
      },
      "outputs": [],
      "source": [
        "plt.figure(figsize=(12, 6))\n",
        "sns.heatmap(df.isnull(), cbar=True)\n",
        "plt.show()"
      ]
    },
    {
      "cell_type": "code",
      "execution_count": null,
      "metadata": {
        "colab": {
          "base_uri": "https://localhost:8080/",
          "height": 419
        },
        "id": "AXB9mSrG-9zL",
        "outputId": "9a5f026e-6e03-4bf2-d28d-f2655d95e32f"
      },
      "outputs": [],
      "source": [
        "num_var = df.select_dtypes(include=['int', 'float']).columns\n",
        "df[num_var].describe()"
      ]
    },
    {
      "cell_type": "code",
      "execution_count": null,
      "metadata": {
        "colab": {
          "base_uri": "https://localhost:8080/"
        },
        "id": "lf8nJdbv-9zM",
        "outputId": "a16491e1-85c6-4e43-dd31-8d9b82e16108"
      },
      "outputs": [],
      "source": [
        "for col in df:\n",
        "    print(f\"{col}: {len(df[col].unique())}\")"
      ]
    },
    {
      "cell_type": "code",
      "execution_count": null,
      "metadata": {
        "colab": {
          "base_uri": "https://localhost:8080/"
        },
        "id": "kW4rUF5--9zM",
        "outputId": "e7c18b89-9b05-48f7-8079-162d9f28e7c6"
      },
      "outputs": [],
      "source": [
        "df[num_var].var()"
      ]
    },
    {
      "cell_type": "code",
      "execution_count": null,
      "metadata": {
        "colab": {
          "base_uri": "https://localhost:8080/"
        },
        "id": "EGmu8XhC-9zM",
        "outputId": "43a818fb-059d-49b3-da1f-304e217cd1ae"
      },
      "outputs": [],
      "source": [
        "# class distribution\n",
        "class_val = df['FLAG'].value_counts()\n",
        "print(len(class_val))\n",
        "print(np.arange(len(class_val)).shape)"
      ]
    },
    {
      "cell_type": "code",
      "execution_count": null,
      "metadata": {
        "id": "zHtvuTk0-9zM"
      },
      "outputs": [],
      "source": [
        "# pie chart for class distribution\n",
        "\n",
        "# data preparation for the pie chart\n",
        "class_counts = df['FLAG'].value_counts()\n",
        "labels = ['Non-fraud', 'Fraud']\n",
        "colors = ['#f9ae35', '#f64e38']\n",
        "explode = (0.1, 0)  # Only \"explode\" the first slice (Non-fraud)\n",
        "\n",
        "pie, ax = plt.subplots(figsize=[15,10])\n",
        "patches, texts, autotexts = plt.pie(x=class_counts, autopct='%.2f%%', explode=explode, labels=labels, pctdistance=0.85, textprops={'fontsize': 18, 'color': 'white'}, colors=colors)\n",
        "\n",
        "# Stylize the autotexts (percent labels)\n",
        "for autotext in autotexts:\n",
        "    autotext.set_color('black')\n",
        "\n",
        "# draw a circle at the center of pie\n",
        "centre_circle = plt.Circle((0,0),0.70,fc='white')\n",
        "fig = plt.gcf()\n",
        "fig.gca().add_artist(centre_circle)\n",
        "\n",
        "ax.axis('equal')\n",
        "\n",
        "# adjust the title size\n",
        "plt.title('Class Distribution', pad=20, fontsize=26)\n",
        "\n",
        "# Show the plot\n",
        "plt.show()\n",
        "\n"
      ]
    },
    {
      "cell_type": "markdown",
      "metadata": {
        "id": "iB5k3WB9-9zN"
      },
      "source": [
        "## Data Cleaning"
      ]
    },
    {
      "cell_type": "markdown",
      "metadata": {
        "id": "ARzoe5Pf-9zN"
      },
      "source": [
        "### Drop features with variance is 0"
      ]
    },
    {
      "cell_type": "code",
      "execution_count": null,
      "metadata": {
        "colab": {
          "base_uri": "https://localhost:8080/"
        },
        "id": "1F0dZwCx-9zN",
        "outputId": "3f419a8e-472a-4328-a890-75b781a5111b"
      },
      "outputs": [],
      "source": [
        "no_var_list = df[num_var].var()[df[num_var].var() == 0].index.tolist()\n",
        "no_var_list"
      ]
    },
    {
      "cell_type": "code",
      "execution_count": null,
      "metadata": {
        "colab": {
          "base_uri": "https://localhost:8080/",
          "height": 565
        },
        "id": "k-cnmTag-9zN",
        "outputId": "130492e4-114d-4d52-e36f-f399f7e4a5ae"
      },
      "outputs": [],
      "source": [
        "df.drop(no_var_list, axis=1, inplace=True)\n",
        "df"
      ]
    },
    {
      "cell_type": "code",
      "execution_count": null,
      "metadata": {
        "colab": {
          "base_uri": "https://localhost:8080/"
        },
        "id": "y7wpEx0h-9zN",
        "outputId": "07a6128f-b98b-4f8b-994b-cbe5cb31e062"
      },
      "outputs": [],
      "source": [
        "df.shape"
      ]
    },
    {
      "cell_type": "code",
      "execution_count": null,
      "metadata": {
        "colab": {
          "base_uri": "https://localhost:8080/"
        },
        "id": "92fhuOLg-9zO",
        "outputId": "1b0c0174-01d3-4678-b0e2-6062fdfea785"
      },
      "outputs": [],
      "source": [
        "all_feature_list = list(set(df.columns) - set(['Address', 'FLAG']) - set(no_var_list))\n",
        "num_feature_list = list(set(all_feature_list) - set(df.dtypes[df.dtypes == 'object'].index))\n",
        "cat_feature_list = list(set(all_feature_list) - set(num_feature_list))\n",
        "print(len(all_feature_list))\n",
        "print(len(num_feature_list))\n",
        "print(len(cat_feature_list))"
      ]
    },
    {
      "cell_type": "code",
      "execution_count": null,
      "metadata": {
        "colab": {
          "base_uri": "https://localhost:8080/"
        },
        "id": "Na5dKusK-9zO",
        "outputId": "f78f40fd-f607-451f-b184-db9288446305"
      },
      "outputs": [],
      "source": [
        "print(num_feature_list)"
      ]
    },
    {
      "cell_type": "code",
      "execution_count": null,
      "metadata": {
        "colab": {
          "base_uri": "https://localhost:8080/"
        },
        "id": "UwV5dDDk-9zO",
        "outputId": "2fe9e45d-40cb-4180-a305-fd9d8a01df68"
      },
      "outputs": [],
      "source": [
        "len(df[num_feature_list].columns)"
      ]
    },
    {
      "cell_type": "code",
      "execution_count": null,
      "metadata": {
        "colab": {
          "base_uri": "https://localhost:8080/",
          "height": 1000
        },
        "id": "ztvJSyM9-9zO",
        "outputId": "a73bd08d-2363-4373-9258-536290509995"
      },
      "outputs": [],
      "source": [
        "fig, axes = plt.subplots(10, 4, figsize=(18, 40))\n",
        "for i, feature in enumerate(num_feature_list):\n",
        "    sns.boxplot(data=df, x=feature, ax=axes[i // 4][i % 4])"
      ]
    },
    {
      "cell_type": "code",
      "execution_count": null,
      "metadata": {
        "colab": {
          "base_uri": "https://localhost:8080/",
          "height": 1000
        },
        "id": "Q46XadS8-9zO",
        "outputId": "4b5a28b2-84bb-48eb-e073-bd4d5a969787"
      },
      "outputs": [],
      "source": [
        "# Correlation matrix\n",
        "correlation_matrix = df[num_feature_list + ['FLAG']].corr()\n",
        "mask = np.zeros_like(correlation_matrix)\n",
        "mask[np.triu_indices_from(mask)] = True\n",
        "with sns.axes_style('white'):\n",
        "    fig, ax = plt.subplots(figsize=(60, 60))\n",
        "    sns.heatmap(correlation_matrix, mask=mask, fmt='.2f',annot=True, cmap='seismic', center=0,\n",
        "            square=True, cbar=True, annot_kws={\"size\": 16})"
      ]
    },
    {
      "cell_type": "code",
      "execution_count": null,
      "metadata": {
        "colab": {
          "base_uri": "https://localhost:8080/",
          "height": 1000
        },
        "id": "X-6GW9jq-9zP",
        "outputId": "3375d52a-525a-4a18-d2a2-12ac05c9d4a8"
      },
      "outputs": [],
      "source": [
        "# correlation with target\n",
        "\n",
        "df[num_feature_list + ['FLAG']].corr()[['FLAG']]"
      ]
    },
    {
      "cell_type": "code",
      "execution_count": null,
      "metadata": {
        "colab": {
          "base_uri": "https://localhost:8080/"
        },
        "id": "KLVknH8c-9zP",
        "outputId": "bcd072eb-b9dc-47bb-8f86-459cdf2959cb"
      },
      "outputs": [],
      "source": [
        "# pairs of highly correlated features\n",
        "\n",
        "pairs = df[num_feature_list].corr().stack()\n",
        "print(pairs)\n",
        "pairs_list = list(pairs[pairs.abs().gt(0.9) & pairs.abs().lt(1.0)].index)\n",
        "print('pairs of highly correlated features: ', int(len(pairs_list) / 2))"
      ]
    },
    {
      "cell_type": "code",
      "execution_count": null,
      "metadata": {
        "colab": {
          "base_uri": "https://localhost:8080/"
        },
        "id": "XGcTNvY0-9zP",
        "outputId": "f17b4d3d-64c5-4771-d7cc-5b24a2b3b7c5"
      },
      "outputs": [],
      "source": [
        "uniq_pairs_list = []\n",
        "\n",
        "for x, y in pairs_list:\n",
        "    if (x, y) in uniq_pairs_list or (y, x) in uniq_pairs_list:\n",
        "        continue\n",
        "    else:\n",
        "        uniq_pairs_list.append((x, y))\n",
        "print(uniq_pairs_list)\n",
        "print(len(uniq_pairs_list))"
      ]
    },
    {
      "cell_type": "code",
      "execution_count": null,
      "metadata": {
        "colab": {
          "base_uri": "https://localhost:8080/"
        },
        "id": "hUGojHyt-9zQ",
        "outputId": "810f5630-0331-49bd-d478-a030b62155f0"
      },
      "outputs": [],
      "source": [
        "uniq_pairs_list"
      ]
    },
    {
      "cell_type": "code",
      "execution_count": null,
      "metadata": {
        "colab": {
          "base_uri": "https://localhost:8080/"
        },
        "id": "RuKPT16L-9zQ",
        "outputId": "de0207ef-fda3-44ef-caf1-22e87498946b"
      },
      "outputs": [],
      "source": [
        "filter_cor_feature_list =  list({x[0] for x in uniq_pairs_list})\n",
        "filter_cor_feature_list"
      ]
    },
    {
      "cell_type": "code",
      "execution_count": null,
      "metadata": {
        "colab": {
          "base_uri": "https://localhost:8080/"
        },
        "id": "g6QNWy2N-9zQ",
        "outputId": "efb8fb18-41b7-4fdd-a9a9-aa2a067694ea"
      },
      "outputs": [],
      "source": [
        "len(list(set(num_feature_list)-set(filter_cor_feature_list)))"
      ]
    },
    {
      "cell_type": "code",
      "execution_count": null,
      "metadata": {
        "colab": {
          "base_uri": "https://localhost:8080/",
          "height": 1000
        },
        "id": "nGWfEySd-9zQ",
        "outputId": "96a133ca-d295-46ac-e0d1-fdfee2d32498"
      },
      "outputs": [],
      "source": [
        "# Correlation matrix after deleting highly-correlated features\n",
        "correlation_matrix = df[list(set(num_feature_list)-set(filter_cor_feature_list))].corr()\n",
        "mask = np.zeros_like(correlation_matrix)\n",
        "mask[np.triu_indices_from(mask)] = True\n",
        "with sns.axes_style('white'):\n",
        "    fig, ax = plt.subplots(figsize=(60, 60))\n",
        "    sns.heatmap(correlation_matrix, mask=mask, fmt='.2f',annot=True, cmap='seismic', center=0,\n",
        "            square=True, cbar=True, annot_kws={\"size\": 16})"
      ]
    },
    {
      "cell_type": "code",
      "execution_count": null,
      "metadata": {
        "id": "Q2Dhgise-9zQ"
      },
      "outputs": [],
      "source": [
        "df.drop(filter_cor_feature_list, axis=1, inplace=True)"
      ]
    },
    {
      "cell_type": "code",
      "execution_count": null,
      "metadata": {
        "id": "A2Jhktim-9zQ"
      },
      "outputs": [],
      "source": [
        "new_num_list =  df.select_dtypes(include=['int', 'float']).columns\n",
        "df[new_num_list] = df[new_num_list].fillna(df[new_num_list].median())"
      ]
    },
    {
      "cell_type": "code",
      "execution_count": null,
      "metadata": {
        "id": "N9C0C4vs-9zR"
      },
      "outputs": [],
      "source": [
        "lower_quantile = 0.05\n",
        "upper_quantile = 0.95\n",
        "\n",
        "lower_bounds = df[new_num_list].quantile(lower_quantile)\n",
        "upper_bounds = df[new_num_list].quantile(upper_quantile)\n",
        "\n",
        "for feature in new_num_list:\n",
        "    df[feature] = df[feature].clip(lower=lower_bounds[feature], upper=upper_bounds[feature])\n"
      ]
    },
    {
      "cell_type": "code",
      "execution_count": null,
      "metadata": {
        "colab": {
          "base_uri": "https://localhost:8080/"
        },
        "id": "0RhG9VPM-9zR",
        "outputId": "b9a02b66-0110-4be5-ce9b-5a066af35c9f"
      },
      "outputs": [],
      "source": [
        "new_cat_list = list(set(df.columns) - set(['Address', 'FLAG']) - set(new_num_list))\n",
        "print(len(new_cat_list))\n",
        "print(df[cat_feature_list[0]].value_counts())\n",
        "print('---------------')\n",
        "print(df[cat_feature_list[1]].value_counts())\n"
      ]
    },
    {
      "cell_type": "code",
      "execution_count": null,
      "metadata": {
        "colab": {
          "base_uri": "https://localhost:8080/"
        },
        "id": "XsAABZrv-9zR",
        "outputId": "4d96d8fa-8fbe-4599-c6ac-a4f2a405ad42"
      },
      "outputs": [],
      "source": [
        "new_df = df.drop(new_cat_list, axis=1)\n",
        "len(new_df.columns)"
      ]
    },
    {
      "cell_type": "code",
      "execution_count": null,
      "metadata": {
        "id": "zf-5u0Or-9zR"
      },
      "outputs": [],
      "source": [
        "new_df.drop(columns=['Address'], inplace=True)"
      ]
    },
    {
      "cell_type": "code",
      "execution_count": null,
      "metadata": {
        "colab": {
          "base_uri": "https://localhost:8080/",
          "height": 530
        },
        "id": "nILmhLIl-9zR",
        "outputId": "aa096e12-d612-4edd-f7c9-c728ca6e5552"
      },
      "outputs": [],
      "source": [
        "new_df"
      ]
    },
    {
      "cell_type": "markdown",
      "metadata": {
        "id": "4LyURYVC-9zT"
      },
      "source": [
        "## Data Preparation"
      ]
    },
    {
      "cell_type": "code",
      "execution_count": null,
      "metadata": {
        "colab": {
          "base_uri": "https://localhost:8080/"
        },
        "id": "upTX4Hpx-9zT",
        "outputId": "56c88220-b9e3-4ba3-9bd2-b5c6a9d5f33f"
      },
      "outputs": [],
      "source": [
        "y = new_df.iloc[:, 0]\n",
        "X = new_df.iloc[:, 1:]\n",
        "print(X.shape, y.shape)"
      ]
    },
    {
      "cell_type": "code",
      "execution_count": null,
      "metadata": {
        "id": "ceHFMvvb-9zT"
      },
      "outputs": [],
      "source": [
        "X_train, X_test_val, y_train, y_test_val = train_test_split(X, y, test_size=0.3, shuffle=True, stratify=y, random_state = 0)\n",
        "X_val, X_test, y_val, y_test = train_test_split(X_test_val, y_test_val, test_size=0.5, shuffle=True, stratify=y_test_val, random_state = 0)"
      ]
    },
    {
      "cell_type": "code",
      "execution_count": null,
      "metadata": {
        "id": "bMVVh6IX-9zT"
      },
      "outputs": [],
      "source": [
        "sc = StandardScaler()\n",
        "sc_train = sc.fit_transform(X_train)\n",
        "sc_val = sc.transform(X_val)"
      ]
    },
    {
      "cell_type": "markdown",
      "metadata": {
        "id": "U5sxPO2Q-9zT"
      },
      "source": [
        "## LightGBM Model"
      ]
    },
    {
      "cell_type": "code",
      "execution_count": null,
      "metadata": {
        "id": "DEr7hU7p-9zT"
      },
      "outputs": [],
      "source": [
        "def evaluate(y_true, y_pred):\n",
        "    print()\n",
        "    print(f'Accuracy: {accuracy_score(y_true, y_pred)}')\n",
        "    print(classification_report(y_true, y_pred, digits=3))\n",
        "    print(confusion_matrix(y_true, y_pred))\n",
        "    cm = confusion_matrix(y_true, y_pred)\n",
        "    disp = ConfusionMatrixDisplay(confusion_matrix=cm)\n",
        "    disp.plot(cmap='Blues')"
      ]
    },
    {
      "cell_type": "markdown",
      "metadata": {
        "id": "OAcWo70F-9zU"
      },
      "source": [
        "##### Baseline model"
      ]
    },
    {
      "cell_type": "code",
      "execution_count": null,
      "metadata": {
        "id": "Oh27m4i4-9zU"
      },
      "outputs": [],
      "source": [
        "# baseline model\n",
        "model = LGBMClassifier()"
      ]
    },
    {
      "cell_type": "code",
      "execution_count": null,
      "metadata": {
        "colab": {
          "base_uri": "https://localhost:8080/"
        },
        "id": "_yMIZCF4-9zU",
        "outputId": "52920f05-ce8e-4022-fd71-cde9ef437a02"
      },
      "outputs": [],
      "source": [
        "start_time = time.time()\n",
        "model.fit(sc_train, y_train)\n",
        "end_time = time.time()\n",
        "training_time = end_time - start_time\n",
        "print(f\"Training took {training_time} seconds\")"
      ]
    },
    {
      "cell_type": "code",
      "execution_count": null,
      "metadata": {
        "colab": {
          "base_uri": "https://localhost:8080/"
        },
        "id": "1EIKCJ6_IpUI",
        "outputId": "1ec9a6e6-0025-4fd2-f92d-42164fe6aca3"
      },
      "outputs": [],
      "source": [
        "evaluate(y_val, model.predict(sc_val))"
      ]
    },
    {
      "cell_type": "code",
      "execution_count": null,
      "metadata": {
        "colab": {
          "base_uri": "https://localhost:8080/"
        },
        "id": "L7GAfwQFGNih",
        "outputId": "0210641a-a717-46fb-b72e-6d4cd74f54cb"
      },
      "outputs": [],
      "source": [
        "y_val_prob = model.predict_proba(sc_val)[:, 1]\n",
        "roc_auc = roc_auc_score(y_val, y_val_prob)\n",
        "print(f\"The ROC-AUC Score on the validation set is: {roc_auc}\")"
      ]
    },
    {
      "cell_type": "markdown",
      "metadata": {
        "id": "9ElCOg8w-9zU"
      },
      "source": [
        "### Use Sampling Techniques -- SMOTE, ADASYN & Undersampling"
      ]
    },
    {
      "cell_type": "markdown",
      "metadata": {
        "id": "n3Z39GUp-9zU"
      },
      "source": [
        "##### SMOTE"
      ]
    },
    {
      "cell_type": "code",
      "execution_count": null,
      "metadata": {
        "colab": {
          "base_uri": "https://localhost:8080/"
        },
        "id": "Z46EzF4Q-9zU",
        "outputId": "be3fffa1-8fcb-488a-a9ab-1930b346a34c"
      },
      "outputs": [],
      "source": [
        "smote = SMOTE(random_state=42)\n",
        "X_train_smote, y_train_smote = smote.fit_resample(X_train, y_train)\n",
        "# Print the class distributions after applying the techniques\n",
        "print(f'Original dataset shape {Counter(y_train)}')\n",
        "print(f'Resampled dataset with SMOTE shape {Counter(y_train_smote)}')\n",
        "\n",
        "# standardize smoted X_train data\n",
        "sc_X_train_smote = sc.fit_transform(X_train_smote)\n",
        "\n",
        "model.fit(sc_X_train_smote, y_train_smote)\n",
        "evaluate(y_val, model.predict(sc_val))"
      ]
    },
    {
      "cell_type": "code",
      "execution_count": null,
      "metadata": {
        "colab": {
          "base_uri": "https://localhost:8080/"
        },
        "id": "f2cTYQzZG-Xk",
        "outputId": "89c3c26e-b8be-4261-e920-14a62846592e"
      },
      "outputs": [],
      "source": [
        "y_val_prob = model.predict_proba(sc_val)[:, 1]\n",
        "roc_auc = roc_auc_score(y_val, y_val_prob)\n",
        "print(f\"The ROC-AUC Score on the validation set is: {roc_auc}\")"
      ]
    },
    {
      "cell_type": "markdown",
      "metadata": {
        "id": "2l4f_ygV-9zV"
      },
      "source": [
        "##### ADASYN"
      ]
    },
    {
      "cell_type": "code",
      "execution_count": null,
      "metadata": {
        "colab": {
          "base_uri": "https://localhost:8080/"
        },
        "id": "iccGqTnN-9zV",
        "outputId": "27da25c3-c170-4691-f724-5314b869f62e"
      },
      "outputs": [],
      "source": [
        "#ADASYN\n",
        "ada = ADASYN(random_state=42)\n",
        "X_train_ada, y_train_ada = ada.fit_resample(X_train, y_train)\n",
        "sc_X_train_ada = sc.fit_transform(X_train_ada)\n",
        "model.fit(sc_X_train_ada, y_train_ada)\n",
        "evaluate(y_val, model.predict(sc_val))"
      ]
    },
    {
      "cell_type": "code",
      "execution_count": null,
      "metadata": {
        "colab": {
          "base_uri": "https://localhost:8080/"
        },
        "id": "QkOa9eG7HHyd",
        "outputId": "698ab667-b7e9-41ef-d08e-a4e5156ec51e"
      },
      "outputs": [],
      "source": [
        "y_val_prob = model.predict_proba(sc_val)[:, 1]\n",
        "roc_auc = roc_auc_score(y_val, y_val_prob)\n",
        "print(f\"The ROC-AUC Score on the validation set is: {roc_auc}\")"
      ]
    },
    {
      "cell_type": "markdown",
      "metadata": {
        "id": "IXU-9aQO-9zV"
      },
      "source": [
        "##### Undersampling"
      ]
    },
    {
      "cell_type": "code",
      "execution_count": null,
      "metadata": {
        "colab": {
          "base_uri": "https://localhost:8080/"
        },
        "id": "PuwVUUfZ-9zV",
        "outputId": "7f75900d-8fde-4558-e872-98e77083b974"
      },
      "outputs": [],
      "source": [
        "# Undersampling\n",
        "rus = RandomUnderSampler(random_state=42)\n",
        "X_train_rus, y_train_rus = rus.fit_resample(X_train, y_train)\n",
        "sc_X_train_rus = sc.fit_transform(X_train_rus)\n",
        "model.fit(sc_X_train_rus, y_train_rus)\n",
        "evaluate(y_val, model.predict(sc_val))"
      ]
    },
    {
      "cell_type": "code",
      "execution_count": null,
      "metadata": {
        "colab": {
          "base_uri": "https://localhost:8080/"
        },
        "id": "IGUVpVrnHRsQ",
        "outputId": "bc1afb25-5cd1-41c3-90b3-ad9a805a92c6"
      },
      "outputs": [],
      "source": [
        "y_val_prob = model.predict_proba(sc_val)[:, 1]\n",
        "roc_auc = roc_auc_score(y_val, y_val_prob)\n",
        "print(f\"The ROC-AUC Score on the validation set is: {roc_auc}\")"
      ]
    },
    {
      "cell_type": "markdown",
      "metadata": {
        "id": "-fbOalYI-9zW"
      },
      "source": [
        "## Hyperparameter tuning"
      ]
    },
    {
      "cell_type": "code",
      "execution_count": null,
      "metadata": {
        "id": "j9JX0WGM12Zo",
        "outputId": "f69e048d-7dea-41b5-d4cd-7f9432b55638"
      },
      "outputs": [],
      "source": [
        "# combine train and validation datasets for cross validation later?\n",
        "X_full = np.concatenate((X_train, X_val))\n",
        "y_full = np.concatenate((y_train, y_val))\n",
        "sc_full = sc.fit_transform(X_full)\n",
        "sc_test = sc.transform(X_test)"
      ]
    },
    {
      "cell_type": "code",
      "execution_count": null,
      "metadata": {
        "id": "a69NPVbi-9zW",
        "outputId": "5c3af25a-39e5-444f-aa0e-a34961ff5027"
      },
      "outputs": [],
      "source": [
        "# grid search\n",
        "param_grid = {\n",
        "    'n_estimators': [100, 1000, 1500],\n",
        "    'learning_rate': [0.1, 0.05, 1],\n",
        "    'num_leaves': [31, 101, 151],\n",
        "    'max_depth': [-1, 35, 55]\n",
        "}\n",
        "grid_search = GridSearchCV(estimator=model, param_grid=param_grid, cv=5, scoring='f1', verbose=1, n_jobs=-1)\n",
        "\n",
        "grid_search.fit(sc_full, y_full)\n",
        "best_model = grid_search.best_estimator_"
      ]
    },
    {
      "cell_type": "code",
      "execution_count": null,
      "metadata": {
        "id": "5Frev11F12Zp",
        "outputId": "417af391-f42a-47b1-e2dd-5c962b80cf19"
      },
      "outputs": [],
      "source": [
        "print(grid_search.best_params_)"
      ]
    },
    {
      "cell_type": "code",
      "execution_count": null,
      "metadata": {
        "id": "IVj5E2Io12Zp",
        "outputId": "01441789-3723-49c2-b279-470fee0ff674"
      },
      "outputs": [],
      "source": [
        "new_model = LGBMClassifier(**grid_search.best_params_)\n",
        "train_times = []\n",
        "for i in range(100):\n",
        "    start_time = time.time()\n",
        "    new_model.fit(sc_full, y_full)\n",
        "    end_time = time.time()\n",
        "    new_train_time = end_time - start_time\n",
        "    train_times.append(new_train_time)\n",
        "avg_train = np.average(train_times)"
      ]
    },
    {
      "cell_type": "code",
      "execution_count": null,
      "metadata": {
        "id": "TqrG9vMh12Zp",
        "outputId": "0b7e0def-1237-4021-d07b-d83630d23941"
      },
      "outputs": [],
      "source": [
        "print(f\"New training time: {avg_train} seconds\")"
      ]
    },
    {
      "cell_type": "code",
      "execution_count": null,
      "metadata": {
        "id": "nMEUKZ0712Zq",
        "outputId": "42384838-c5b0-46d3-f295-1b177e7fe47a"
      },
      "outputs": [],
      "source": [
        "result = permutation_importance(new_model, sc_test, y_test,n_repeats=10, random_state=0)\n",
        "df = pd.DataFrame({'Index': X.columns,\n",
        "                   'Value': result['importances_mean']})\n",
        "df = df.sort_values('Value',ascending=True)\n",
        "plt.barh(y=df['Index'], width=df['Value'], cmp='')"
      ]
    },
    {
      "cell_type": "code",
      "execution_count": null,
      "metadata": {
        "id": "h_OTNme_12Zq",
        "outputId": "036e29ec-d5b3-4eed-d171-0835af38b2dd"
      },
      "outputs": [],
      "source": [
        "# Measure inference speed on the test dataset\n",
        "test_times = []\n",
        "for i in range(100):\n",
        "    start_time = time.time()\n",
        "    new_model.predict(sc_test)\n",
        "    end_time = time.time()\n",
        "    inference_time_test = end_time - start_time\n",
        "    test_times.append(inference_time_test)\n",
        "avg_test_inf = np.average(test_times)\n",
        "print(f\"Inference time on test set: {avg_test_inf} seconds\")"
      ]
    },
    {
      "cell_type": "code",
      "execution_count": null,
      "metadata": {
        "id": "3EAPDGqo-9zX",
        "outputId": "2821b441-8b24-4a8d-ed9d-9236058dfbc0"
      },
      "outputs": [],
      "source": [
        "evaluate(y_test, new_model.predict(sc_test))"
      ]
    },
    {
      "cell_type": "code",
      "execution_count": null,
      "metadata": {
        "id": "5Yu4cT3U-9zX",
        "outputId": "633d9b9c-58a6-463c-8b29-09c097d094e4"
      },
      "outputs": [],
      "source": [
        "y_test_prob = new_model.predict_proba(sc_test)[:, 1]\n",
        "roc_auc = roc_auc_score(y_test, y_test_prob)\n",
        "print(f\"The ROC-AUC Score on the validation set is: {roc_auc}\")"
      ]
    },
    {
      "cell_type": "code",
      "execution_count": null,
      "metadata": {
        "id": "Lu4nscnK12Zr"
      },
      "outputs": [],
      "source": []
    },
    {
      "cell_type": "markdown",
      "metadata": {
        "id": "QviaS4_c12Zr"
      },
      "source": [
        "# Error Analysis"
      ]
    },
    {
      "cell_type": "code",
      "execution_count": null,
      "metadata": {
        "id": "psXEKOHJ12Zr"
      },
      "outputs": [],
      "source": [
        "best_params =  {'learning_rate': 0.1, 'max_depth': -1, 'n_estimators': 1000, 'num_leaves': 31}\n",
        "model = LGBMClassifier(**best_params)"
      ]
    },
    {
      "cell_type": "code",
      "execution_count": null,
      "metadata": {
        "id": "cFe8j1Ca12Zr",
        "outputId": "e884a3d9-d286-4ef2-c097-308e2180ab41"
      },
      "outputs": [],
      "source": [
        "model.fit(sc_full, y_full)"
      ]
    },
    {
      "cell_type": "code",
      "execution_count": null,
      "metadata": {
        "id": "y7ZRwttb12Zr"
      },
      "outputs": [],
      "source": [
        "y_true_test = y_test.values\n",
        "y_pred_test = model.predict(sc_test)\n",
        "\n",
        "y_true_train = y_full\n",
        "y_pred_train = model.predict(sc_full)"
      ]
    },
    {
      "cell_type": "code",
      "execution_count": null,
      "metadata": {
        "id": "G-7UcfDA12Zr"
      },
      "outputs": [],
      "source": [
        "errors = X_test[y_true_test != y_pred_test]  # filter rows with wrong predictions"
      ]
    },
    {
      "cell_type": "code",
      "execution_count": null,
      "metadata": {
        "id": "zgt7JtHl12Zr",
        "outputId": "0f524d15-d3ca-46e4-afd4-b660862862b3"
      },
      "outputs": [],
      "source": [
        "X_test.describe()"
      ]
    },
    {
      "cell_type": "code",
      "execution_count": null,
      "metadata": {
        "id": "vTqGMBoq12Zs",
        "outputId": "d3e22963-9680-41a8-a87d-69c879613ad4"
      },
      "outputs": [],
      "source": [
        "errors.describe()"
      ]
    },
    {
      "cell_type": "markdown",
      "metadata": {
        "id": "OEpv09Am12Zs"
      },
      "source": [
        "# Comparing train/test performance"
      ]
    },
    {
      "cell_type": "code",
      "execution_count": null,
      "metadata": {
        "id": "ztVJMSbh12Zs",
        "outputId": "06d48234-69d2-4f83-c3f2-d46bc799f44d"
      },
      "outputs": [],
      "source": [
        "best_params =  {'learning_rate': 0.1, 'max_depth': -1, 'n_estimators': 1000, 'num_leaves': 31}\n",
        "model = LGBMClassifier(**best_params)\n",
        "model.fit(sc_full, y_full)"
      ]
    },
    {
      "cell_type": "code",
      "execution_count": null,
      "metadata": {
        "id": "wUzc-mGw12Zs"
      },
      "outputs": [],
      "source": [
        "y_true_test = y_test.values\n",
        "y_pred_test = model.predict(sc_test)\n",
        "\n",
        "y_true_train = y_full\n",
        "y_pred_train = model.predict(sc_full)"
      ]
    },
    {
      "cell_type": "code",
      "execution_count": null,
      "metadata": {
        "id": "3t6F5Tdx12Zs",
        "outputId": "7304345b-416e-4eba-af0b-3afc0cdc0051"
      },
      "outputs": [],
      "source": [
        "print(f\"Train accuracy: {accuracy_score(y_true_train, y_pred_train):.5f}\")\n",
        "print(f\"Test accuracy: {accuracy_score(y_true_test, y_pred_test):.5f}\")"
      ]
    },
    {
      "cell_type": "code",
      "execution_count": null,
      "metadata": {
        "id": "FoS2PFug12Zs",
        "outputId": "31c6921d-de0a-42e8-cd40-c61674c7263e"
      },
      "outputs": [],
      "source": [
        "evaluate(y_true_train, y_pred_train)"
      ]
    },
    {
      "cell_type": "code",
      "execution_count": null,
      "metadata": {
        "id": "anofhSf812Zs",
        "outputId": "8b7ccf68-b3c7-4a1f-95ec-d22d7a8d1aae"
      },
      "outputs": [],
      "source": [
        "evaluate(y_true_test, y_pred_test)"
      ]
    },
    {
      "cell_type": "code",
      "execution_count": null,
      "metadata": {
        "id": "6KEedK9z12Zt"
      },
      "outputs": [],
      "source": []
    }
  ],
  "metadata": {
    "colab": {
      "machine_shape": "hm",
      "provenance": []
    },
    "interpreter": {
      "hash": "9bcddea9a7fdba3c2f8ea2404009ba149a6d1d7a9d48029013dc74d1149cbb60"
    },
    "kernelspec": {
      "display_name": "Python 3",
      "name": "python3"
    },
    "language_info": {
      "codemirror_mode": {
        "name": "ipython",
        "version": 3
      },
      "file_extension": ".py",
      "mimetype": "text/x-python",
      "name": "python",
      "nbconvert_exporter": "python",
      "pygments_lexer": "ipython3",
      "version": "3.11.5"
    },
    "vscode": {
      "interpreter": {
        "hash": "6bfba3d9cec53d1fa1d59f855399e26dded27ccf19705ae5a5112c9714ee83ae"
      }
    }
  },
  "nbformat": 4,
  "nbformat_minor": 0
}
